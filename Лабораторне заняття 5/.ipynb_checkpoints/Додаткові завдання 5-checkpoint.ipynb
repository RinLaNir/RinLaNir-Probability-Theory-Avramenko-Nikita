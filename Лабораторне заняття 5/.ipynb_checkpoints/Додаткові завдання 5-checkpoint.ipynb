{
 "cells": [
  {
   "cell_type": "markdown",
   "metadata": {},
   "source": [
    "# Додаткові завдання №5"
   ]
  },
  {
   "cell_type": "markdown",
   "metadata": {},
   "source": [
    "## 1 Задача 1.10.10\n",
    "Випадкова величина $\\xi$ має щiльнiсть $p(x) = e^{-2 |x|}$.\n",
    "Обчислити\n",
    "1. $\\mathsf{P}(\\xi < 1)$;\n",
    "2. $\\mathsf{P}(\\xi < 3|\\xi \\geq 2)$;\n",
    "3. $\\mathsf{E}\\xi, \\mathsf{D}\\xi$."
   ]
  },
  {
   "cell_type": "markdown",
   "metadata": {},
   "source": [
    "### 1.1 Завдання 1\n",
    "Реалізуйте випадкову величину $\\xi$ за допомогою класу [scipy.stats.rv_continuous](https://docs.scipy.org/doc/scipy/reference/generated/scipy.stats.rv_continuous.html)."
   ]
  },
  {
   "cell_type": "code",
   "execution_count": 4,
   "metadata": {},
   "outputs": [],
   "source": [
    "from scipy.stats import rv_continuous\n",
    "import numpy as np\n",
    "import matplotlib.pyplot as plt\n",
    "\n",
    "class E(rv_continuous):\n",
    "    def _pdf(self, x):\n",
    "        return np.exp(-2*np.abs(x))\n"
   ]
  },
  {
   "cell_type": "markdown",
   "metadata": {},
   "source": [
    "### 1.2 Завдання 2\n",
    "Зобразіть графічно функцію щільності та функцію розподілу отриманої випадкової величини."
   ]
  },
  {
   "cell_type": "code",
   "execution_count": 5,
   "metadata": {},
   "outputs": [
    {
     "data": {
      "image/png": "[encoded data removed]",
      "text/plain": [
       "<Figure size 1440x360 with 2 Axes>"
      ]
     },
     "metadata": {
      "needs_background": "light"
     },
     "output_type": "display_data"
    }
   ],
   "source": [
    "def axes(ind):\n",
    "    ax[ind].axvline(0, alpha=.1)\n",
    "    ax[ind].axhline(0, alpha=.1)\n",
    "\n",
    "x = np.arange(-5, 5, 0.01)\n",
    "fig, ax = plt.subplots(1, 2, figsize=(20,5))\n",
    "\n",
    "prob = E(name='prob')\n",
    "\n",
    "y = prob._pdf(x)\n",
    "ax[0].plot(x, y)\n",
    "axes(0)\n",
    "ax[0].set_title(\"PDF\")\n",
    "y = prob.cdf(x)\n",
    "ax[1].plot(x, y)\n",
    "axes(1)\n",
    "ax[1].set_title(\"CDF\")\n",
    "plt.show()\n",
    "\n"
   ]
  },
  {
   "cell_type": "markdown",
   "metadata": {},
   "source": [
    "### 1.3 Завдання 3\n",
    "Розв'яжіть задачу за допомогою отриманої випадкової величини та порівняйте результати з теоретично розрахованими."
   ]
  },
  {
   "cell_type": "code",
   "execution_count": 6,
   "metadata": {},
   "outputs": [
    {
     "name": "stdout",
     "output_type": "stream",
     "text": [
      "P(e<1):\n",
      "За допомогою отриманої випадкової величини 0.9323323583816931\n",
      "Теоретично розраховані 0.932332358381694\n",
      "\n",
      "P(e<3|e>=2):\n",
      "За допомогою отриманої випадкової величини 0.007918443356022653\n",
      "Теоретично розраховані 0.00791844335603391\n",
      "\n",
      "Мат сподівання:\n",
      "За допомогою отриманої випадкової величини 0.0\n",
      "Теоретично розраховані 0\n"
     ]
    },
    {
     "data": {
      "text/latex": [
       "$\\displaystyle 0.5$"
      ],
      "text/plain": [
       "0.500000000000000"
      ]
     },
     "execution_count": 6,
     "metadata": {},
     "output_type": "execute_result"
    }
   ],
   "source": [
    "from sympy import*\n",
    "from sympy.abc import k\n",
    "\n",
    "f = exp(-2*abs(k))\n",
    "\n",
    "print('P(e<1):')\n",
    "print(f'За допомогою отриманої випадкової величини {prob.cdf(1)}')\n",
    "print(f'Теоретично розраховані {(integrate(f,(k,-oo,0))+integrate(f,(k,0,1))).evalf()}\\n')\n",
    "\n",
    "print('P(e<3|e>=2):')\n",
    "print(f'За допомогою отриманої випадкової величини {prob.cdf(3) - prob.cdf(2)}')\n",
    "print(f'Теоретично розраховані {(integrate(f,(k,2,3))).evalf()}\\n')\n",
    "\n",
    "print('Мат сподівання:')\n",
    "print(f'За допомогою отриманої випадкової величини {prob.expect()}')\n",
    "print(f'Теоретично розраховані {(integrate(k*f,(k,-oo,oo))).evalf()}\\n')\n",
    "\n",
    "print('Дисперсія:')\n",
    "print(f'За допомогою отриманої випадкової величини {prob.var()}')\n",
    "print(f'Теоретично розраховані {(integrate(k**2*f,(k,-oo,oo)) - integrate(k*f,(k,-oo,oo))**2).evalf()}\\n')"
   ]
  },
  {
   "cell_type": "markdown",
   "metadata": {},
   "source": [
    "## 2 Апроксимація числа $\\pi$ (задача Бюффона)"
   ]
  },
  {
   "cell_type": "markdown",
   "metadata": {},
   "source": [
    "Розглянемо дві паралельні прямі на площині, відстань між якими дорівнює $1$. Не втрачаючи загальності, нехай ці прямі задаються рівностями $y = 0$ та $y = 1$. Кинемо на цю площину голку довжиною $1$ так, що координата по осі $y$ її середини рівномірно розподілена на $[0,1]$, а кут між голкою та віссю $x$ (додатною піввіссю $x$) рівномірно розподілений на $[0, \\pi]$. Тоді ймовірність того, що голка перетне будь-яку з паралельних прямих, дорівнює $2/\\pi$.\n",
    "\n",
    "Реалізуйте функцію емпіричної апроксимації числа $\\pi$ за $n$ симуляцій (кидання $n$ голок). Зобразіть графічно отримані елементи: паралельні прямі та всі голки. Виділіть точки, що належать колу, окремим кольором від інших точок.\n",
    "\n",
    "Виведіть результат функції для:\n",
    "1. $n = 10$\n",
    "2. $n = 100$\n",
    "3. $n = 500$\n",
    "4. $n = 1000$"
   ]
  },
  {
   "cell_type": "code",
   "execution_count": 4,
   "metadata": {},
   "outputs": [],
   "source": [
    "# Місце для Вашого коду\n",
    "\n"
   ]
  }
 ],
 "metadata": {
  "kernelspec": {
   "display_name": "Python 3",
   "language": "python",
   "name": "python3"
  },
  "language_info": {
   "codemirror_mode": {
    "name": "ipython",
    "version": 3
   },
   "file_extension": ".py",
   "mimetype": "text/x-python",
   "name": "python",
   "nbconvert_exporter": "python",
   "pygments_lexer": "ipython3",
   "version": "3.7.3"
  }
 },
 "nbformat": 4,
 "nbformat_minor": 1
}
