{
 "cells": [
  {
   "cell_type": "markdown",
   "metadata": {},
   "source": [
    "# Лабораторне заняття №2\n",
    "Знайомство з бібліотекою **NumPy**."
   ]
  },
  {
   "cell_type": "code",
   "execution_count": 1,
   "metadata": {},
   "outputs": [],
   "source": [
    "import numpy as np"
   ]
  },
  {
   "cell_type": "markdown",
   "metadata": {},
   "source": [
    "## 1 Огляд функцій випадкового вибору"
   ]
  },
  {
   "cell_type": "markdown",
   "metadata": {},
   "source": [
    "### 1.1 Функція *choice*\n",
    "Для детальної інформації див. [документацію](https://docs.scipy.org/doc/numpy-1.14.1/reference/generated/numpy.random.choice.html)."
   ]
  },
  {
   "cell_type": "code",
   "execution_count": 2,
   "metadata": {},
   "outputs": [
    {
     "name": "stdout",
     "output_type": "stream",
     "text": [
      "['top' 'top' '4.5' 'top' 'top' '4.5' 'top' 'top' '2' 'top']\n"
     ]
    }
   ],
   "source": [
    "a = [\"top\", 2, \"bottom\", 4.5]\n",
    "size = 10\n",
    "probs = [0.4, 0.2, 0.1, 0.3]\n",
    "replace = True\n",
    "print(np.random.choice(a, size=size, replace=replace, p=probs))"
   ]
  },
  {
   "cell_type": "markdown",
   "metadata": {},
   "source": [
    "Згенеруйте одну випадкову цифру, вважаючи їх рівноймовірними."
   ]
  },
  {
   "cell_type": "code",
   "execution_count": 3,
   "metadata": {},
   "outputs": [
    {
     "name": "stdout",
     "output_type": "stream",
     "text": [
      "Випадкова цифра: 3\n"
     ]
    }
   ],
   "source": [
    "def gaenerate_random_number(max_num):\n",
    "    return np.random.choice(max_num,1)\n",
    "\n",
    "print(f'Випадкова цифра: {int(gaenerate_random_number(10))}')"
   ]
  },
  {
   "cell_type": "markdown",
   "metadata": {},
   "source": [
    "Згенеруйте випадкову матрицю $4 \\times 6$ із рівноймовірних цифр."
   ]
  },
  {
   "cell_type": "code",
   "execution_count": 4,
   "metadata": {},
   "outputs": [
    {
     "name": "stdout",
     "output_type": "stream",
     "text": [
      "Випадкова матриця: \n",
      "[[5 7 6 6 9 0]\n",
      " [5 8 1 4 6 7]\n",
      " [1 6 9 2 2 4]\n",
      " [3 0 8 3 3 9]]\n"
     ]
    }
   ],
   "source": [
    "def gaenerate_random_matrix(max_num):\n",
    "    return np.random.choice(max_num,(4,6))\n",
    "\n",
    "print(f'Випадкова матриця: \\n{gaenerate_random_matrix(10)}')"
   ]
  },
  {
   "cell_type": "markdown",
   "metadata": {},
   "source": [
    "### 1.2 Функція *randint*\n",
    "Для детальної інформації див. [документацію](https://docs.scipy.org/doc/numpy-1.14.1/reference/generated/numpy.random.randint.html)."
   ]
  },
  {
   "cell_type": "code",
   "execution_count": 5,
   "metadata": {},
   "outputs": [
    {
     "name": "stdout",
     "output_type": "stream",
     "text": [
      "[3 4 0 3 4 0 0 1 4 1]\n"
     ]
    }
   ],
   "source": [
    "low = 0\n",
    "high = 5\n",
    "size = 10\n",
    "print(np.random.randint(low=low, high=high, size=size))"
   ]
  },
  {
   "cell_type": "markdown",
   "metadata": {},
   "source": [
    "Згенеруйте одну випадкову цифру."
   ]
  },
  {
   "cell_type": "code",
   "execution_count": 6,
   "metadata": {},
   "outputs": [
    {
     "name": "stdout",
     "output_type": "stream",
     "text": [
      "Випадкова цифра: 4\n"
     ]
    }
   ],
   "source": [
    "print(f'Випадкова цифра: {np.random.randint(10)}')\n"
   ]
  },
  {
   "cell_type": "markdown",
   "metadata": {},
   "source": [
    "Згенеруйте випадкову матрицю $4 \\times 5$ із двоцифрових чисел."
   ]
  },
  {
   "cell_type": "code",
   "execution_count": 7,
   "metadata": {},
   "outputs": [
    {
     "name": "stdout",
     "output_type": "stream",
     "text": [
      "Випадкова матриця: \n",
      "[[83 83 77 27 23]\n",
      " [54 10 75 19 77]\n",
      " [99 89 50 65 66]\n",
      " [75 24 63 64 76]]\n"
     ]
    }
   ],
   "source": [
    "print(f'Випадкова матриця: \\n{np.random.randint(10,100, size = (4,5))}')\n",
    "\n"
   ]
  },
  {
   "cell_type": "markdown",
   "metadata": {},
   "source": [
    "### 1.3 Функція *sample*\n",
    "Для детальної інформації див. [документацію](https://docs.scipy.org/doc/numpy-1.14.1/reference/generated/numpy.random.sample.html)."
   ]
  },
  {
   "cell_type": "code",
   "execution_count": 8,
   "metadata": {},
   "outputs": [
    {
     "name": "stdout",
     "output_type": "stream",
     "text": [
      "0.5262135665311842\n"
     ]
    }
   ],
   "source": [
    "size = None\n",
    "print(np.random.sample(size=size))"
   ]
  },
  {
   "cell_type": "markdown",
   "metadata": {},
   "source": [
    "Згенеруйте випадкову матрицю $3 \\times 4$ із чисел з інтервалу $[0, 1)$."
   ]
  },
  {
   "cell_type": "code",
   "execution_count": 9,
   "metadata": {},
   "outputs": [
    {
     "name": "stdout",
     "output_type": "stream",
     "text": [
      "[[0.17539676 0.39967989 0.68959279 0.63743291]\n",
      " [0.6842483  0.15121446 0.90279326 0.10062365]\n",
      " [0.15854313 0.17769168 0.74930473 0.58040007]]\n"
     ]
    }
   ],
   "source": [
    "size = (3,4)\n",
    "print(np.random.sample(size=size))\n",
    "\n"
   ]
  },
  {
   "cell_type": "markdown",
   "metadata": {},
   "source": [
    "Згенеруйте 10 випадкових чисел з інтервалу $[a, b)$."
   ]
  },
  {
   "cell_type": "code",
   "execution_count": 10,
   "metadata": {},
   "outputs": [],
   "source": [
    "a = 3\n",
    "b = 5"
   ]
  },
  {
   "cell_type": "code",
   "execution_count": 11,
   "metadata": {},
   "outputs": [
    {
     "name": "stdout",
     "output_type": "stream",
     "text": [
      "[4.89979505 3.83971347 3.40883441 3.30591099 3.82649555 4.47016034\n",
      " 3.55815794 3.48024392 4.18049402 3.03679777]\n"
     ]
    }
   ],
   "source": [
    "size = (10,)\n",
    "print((b - a) * np.random.sample(size=size) + a)"
   ]
  },
  {
   "cell_type": "markdown",
   "metadata": {},
   "source": [
    "### 1.4 Функція *shuffle*\n",
    "Для детальної інформації див. [документацію](https://docs.scipy.org/doc/numpy-1.14.1/reference/generated/numpy.random.shuffle.html)."
   ]
  },
  {
   "cell_type": "code",
   "execution_count": 12,
   "metadata": {},
   "outputs": [
    {
     "name": "stdout",
     "output_type": "stream",
     "text": [
      "[2 6 0 3 9 5 1 8 4 7]\n"
     ]
    }
   ],
   "source": [
    "x = np.arange(10)\n",
    "np.random.shuffle(x)\n",
    "print(x)"
   ]
  },
  {
   "cell_type": "markdown",
   "metadata": {},
   "source": [
    "Перетасуйте матрицю $M$."
   ]
  },
  {
   "cell_type": "code",
   "execution_count": 13,
   "metadata": {},
   "outputs": [
    {
     "name": "stdout",
     "output_type": "stream",
     "text": [
      "[[ 0  1  2  3  4]\n",
      " [ 5  6  7  8  9]\n",
      " [10 11 12 13 14]\n",
      " [15 16 17 18 19]]\n"
     ]
    }
   ],
   "source": [
    "M = np.arange(20).reshape((4, 5))\n",
    "print(M)"
   ]
  },
  {
   "cell_type": "code",
   "execution_count": 14,
   "metadata": {},
   "outputs": [
    {
     "name": "stdout",
     "output_type": "stream",
     "text": [
      "[[ 5  6  7  8  9]\n",
      " [10 11 12 13 14]\n",
      " [ 0  1  2  3  4]\n",
      " [15 16 17 18 19]]\n"
     ]
    }
   ],
   "source": [
    "np.random.shuffle(M)\n",
    "print(M)"
   ]
  },
  {
   "cell_type": "markdown",
   "metadata": {},
   "source": [
    "## 2 Відтворюваність результатів\n",
    "Можна задати початкове значення для генератора. Це зафіксує \"випадкову\" послідовність."
   ]
  },
  {
   "cell_type": "code",
   "execution_count": 15,
   "metadata": {},
   "outputs": [],
   "source": [
    "np.random.seed(42)"
   ]
  },
  {
   "cell_type": "code",
   "execution_count": 16,
   "metadata": {},
   "outputs": [
    {
     "name": "stdout",
     "output_type": "stream",
     "text": [
      "6\n"
     ]
    }
   ],
   "source": [
    "print(np.random.randint(10))"
   ]
  },
  {
   "cell_type": "code",
   "execution_count": 17,
   "metadata": {},
   "outputs": [
    {
     "name": "stdout",
     "output_type": "stream",
     "text": [
      "3\n"
     ]
    }
   ],
   "source": [
    "print(np.random.randint(10))"
   ]
  },
  {
   "cell_type": "code",
   "execution_count": 18,
   "metadata": {},
   "outputs": [
    {
     "name": "stdout",
     "output_type": "stream",
     "text": [
      "6\n",
      "3\n"
     ]
    }
   ],
   "source": [
    "np.random.seed(42)\n",
    "print(np.random.randint(10))\n",
    "print(np.random.randint(10))"
   ]
  },
  {
   "cell_type": "code",
   "execution_count": 19,
   "metadata": {},
   "outputs": [
    {
     "name": "stdout",
     "output_type": "stream",
     "text": [
      "[6 3 7 4 6 9 2 6 7 4]\n",
      "['l' 'l' 'l' 'b' 'r' 't' 'r' 'l' 'l' 'r']\n",
      "[6 3 7 4 6 9 2 6 7 4]\n",
      "['l' 'l' 'l' 'b' 'r' 't' 'r' 'l' 'l' 'r']\n"
     ]
    }
   ],
   "source": [
    "np.random.seed(42)\n",
    "print(np.random.randint(10, size=10))\n",
    "print(np.random.choice(['t', 'r', 'b', 'l'], size=10))\n",
    "np.random.seed(42)\n",
    "print(np.random.randint(10, size=10))\n",
    "print(np.random.choice(['t', 'r', 'b', 'l'], size=10))"
   ]
  },
  {
   "cell_type": "markdown",
   "metadata": {},
   "source": [
    "## 3 Монетка"
   ]
  },
  {
   "cell_type": "markdown",
   "metadata": {},
   "source": [
    "### 3.1 За допомогою функції *choice*"
   ]
  },
  {
   "cell_type": "code",
   "execution_count": 20,
   "metadata": {},
   "outputs": [
    {
     "name": "stdout",
     "output_type": "stream",
     "text": [
      "['H' 'H' 'H' 'H' 'T' 'H' 'H' 'T' 'H' 'H']\n"
     ]
    }
   ],
   "source": [
    "p=0.5\n",
    "n=10\n",
    "tosses=np.random.choice([\"H\",\"T\"],p=[p,1-p], size=n)\n",
    "print(tosses)"
   ]
  },
  {
   "cell_type": "code",
   "execution_count": 21,
   "metadata": {},
   "outputs": [
    {
     "name": "stdout",
     "output_type": "stream",
     "text": [
      "8 heads and 2 tails\n"
     ]
    }
   ],
   "source": [
    "heads = list(tosses).count(\"H\")\n",
    "tails = list(tosses).count(\"T\")\n",
    "\n",
    "print(\"{} heads and {} tails\".format(heads,tails))"
   ]
  },
  {
   "cell_type": "markdown",
   "metadata": {},
   "source": [
    "Просимулюйте $100$ підкидань монетки та підрахуйте кількість кожної із сторін."
   ]
  },
  {
   "cell_type": "code",
   "execution_count": 22,
   "metadata": {},
   "outputs": [
    {
     "name": "stdout",
     "output_type": "stream",
     "text": [
      "50 heads and 50 tails\n"
     ]
    }
   ],
   "source": [
    "n=100\n",
    "tosses=np.random.choice([\"H\",\"T\"],p=[p,1-p], size=n)\n",
    "heads = list(tosses).count(\"H\")\n",
    "tails = list(tosses).count(\"T\")\n",
    "\n",
    "print(\"{} heads and {} tails\".format(heads,tails))"
   ]
  },
  {
   "cell_type": "markdown",
   "metadata": {},
   "source": [
    "### 3.2 За допомогою функції *randint*\n",
    "Реалізуйте симуляцію підкидань монетки за допомогою функції **randint**. Просимулюйте $100$ підкидань монетки та підрахуйте кількість кожної із сторін."
   ]
  },
  {
   "cell_type": "code",
   "execution_count": 23,
   "metadata": {},
   "outputs": [
    {
     "name": "stdout",
     "output_type": "stream",
     "text": [
      "48 heads and 52 tails\n"
     ]
    }
   ],
   "source": [
    "np.random.seed(None)\n",
    "tosses = np.random.choice([\"H\",\"T\"], size=100)\n",
    "\n",
    "heads = list(tosses).count(\"H\")\n",
    "tails = list(tosses).count(\"T\")\n",
    "\n",
    "print(\"{} heads and {} tails\".format(heads,tails))"
   ]
  },
  {
   "cell_type": "markdown",
   "metadata": {},
   "source": [
    "### 3.3 За допомогою функції *sample*\n",
    "Реалізуйте симуляцію підкидань монетки за допомогою функції **sample**. Просимулюйте $100$ підкидань монетки та підрахуйте кількість кожної із сторін."
   ]
  },
  {
   "cell_type": "code",
   "execution_count": 24,
   "metadata": {},
   "outputs": [
    {
     "name": "stdout",
     "output_type": "stream",
     "text": [
      "60 heads and 40 tails\n"
     ]
    }
   ],
   "source": [
    "size = 100\n",
    "a = -1\n",
    "b = 1\n",
    "tosses = np.zeros(100) < (b - a) * np.random.sample(size=size) + a\n",
    "\n",
    "heads = list(tosses).count(True)\n",
    "tails = list(tosses).count(False)\n",
    "\n",
    "print(\"{} heads and {} tails\".format(heads,tails))"
   ]
  },
  {
   "cell_type": "markdown",
   "metadata": {},
   "source": [
    "### 3.4 Задача\n",
    "Знайдіть емпіричну ймовірність герба у симуляціях підкидання монетки $n = 10, 50, 100, 250, 500, 1000, 2500, 5000, 10000$ разів."
   ]
  },
  {
   "cell_type": "code",
   "execution_count": 25,
   "metadata": {},
   "outputs": [
    {
     "name": "stdout",
     "output_type": "stream",
     "text": [
      "Підкидань: 10\n",
      "Ймовірність: 0.2\n",
      "\n",
      "Підкидань: 50\n",
      "Ймовірність: 0.48\n",
      "\n",
      "Підкидань: 100\n",
      "Ймовірність: 0.43\n",
      "\n",
      "Підкидань: 250\n",
      "Ймовірність: 0.528\n",
      "\n",
      "Підкидань: 500\n",
      "Ймовірність: 0.496\n",
      "\n",
      "Підкидань: 1000\n",
      "Ймовірність: 0.476\n",
      "\n",
      "Підкидань: 2500\n",
      "Ймовірність: 0.52\n",
      "\n",
      "Підкидань: 5000\n",
      "Ймовірність: 0.5038\n",
      "\n",
      "Підкидань: 10000\n",
      "Ймовірність: 0.5051\n",
      "\n"
     ]
    }
   ],
   "source": [
    "n= [10,50,100,250,500,1000,2500,5000,10000]\n",
    "\n",
    "def task1(n):\n",
    "    tosses=np.random.choice([\"H\",\"T\"], size=n)\n",
    "    heads = list(tosses).count(\"H\")\n",
    "\n",
    "    print(\"Підкидань: {}\\nЙмовірність: {}\".format(n,heads/n), end = '\\n\\n')\n",
    "\n",
    "for i in n:\n",
    "    task1(i)"
   ]
  },
  {
   "cell_type": "markdown",
   "metadata": {},
   "source": [
    "## 4 Гральний кубик\n",
    "### 4.1 Реалізація симуляцій\n",
    "Реалізуйте симуляцію кидків грального кубика за допомогою функції **???**. Просимулюйте $60$ кидків кубика та підрахуйте кількість кожної із сторін."
   ]
  },
  {
   "cell_type": "code",
   "execution_count": 26,
   "metadata": {},
   "outputs": [
    {
     "name": "stdout",
     "output_type": "stream",
     "text": [
      "Грань: 1\n",
      "Ймовірність: 0.1\n",
      "\n",
      "Грань: 2\n",
      "Ймовірність: 0.23333333333333334\n",
      "\n",
      "Грань: 3\n",
      "Ймовірність: 0.06666666666666667\n",
      "\n",
      "Грань: 4\n",
      "Ймовірність: 0.2\n",
      "\n",
      "Грань: 5\n",
      "Ймовірність: 0.16666666666666666\n",
      "\n",
      "Грань: 6\n",
      "Ймовірність: 0.23333333333333334\n",
      "\n"
     ]
    }
   ],
   "source": [
    "size = 60\n",
    "tosses=np.random.choice(np.arange(1,7), size=size)\n",
    "\n",
    "for i in range(1,7):\n",
    "    res = list(tosses).count(i)\n",
    "    print(\"Грань: {}\\nЙмовірність: {}\".format(i,res/size), end = '\\n\\n')\n"
   ]
  },
  {
   "cell_type": "markdown",
   "metadata": {},
   "source": [
    "### 4.2 Задача\n",
    "Знайдіть емпіричну ймовірність кожної сторони у симуляціях кидання грального кубика $n = 10, 50, 100, 250, 500, 1000, 2500, 5000, 10000$ разів."
   ]
  },
  {
   "cell_type": "code",
   "execution_count": 27,
   "metadata": {},
   "outputs": [
    {
     "name": "stdout",
     "output_type": "stream",
     "text": [
      "Грань: 1\n",
      "Ймовірність: 0.3\n",
      "Грань: 2\n",
      "Ймовірність: 0.2\n",
      "Грань: 3\n",
      "Ймовірність: 0.0\n",
      "Грань: 4\n",
      "Ймовірність: 0.2\n",
      "Грань: 5\n",
      "Ймовірність: 0.3\n",
      "Грань: 6\n",
      "Ймовірність: 0.0\n",
      "\n",
      "\n",
      "Грань: 1\n",
      "Ймовірність: 0.14\n",
      "Грань: 2\n",
      "Ймовірність: 0.22\n",
      "Грань: 3\n",
      "Ймовірність: 0.12\n",
      "Грань: 4\n",
      "Ймовірність: 0.22\n",
      "Грань: 5\n",
      "Ймовірність: 0.16\n",
      "Грань: 6\n",
      "Ймовірність: 0.14\n",
      "\n",
      "\n",
      "Грань: 1\n",
      "Ймовірність: 0.26\n",
      "Грань: 2\n",
      "Ймовірність: 0.17\n",
      "Грань: 3\n",
      "Ймовірність: 0.11\n",
      "Грань: 4\n",
      "Ймовірність: 0.21\n",
      "Грань: 5\n",
      "Ймовірність: 0.14\n",
      "Грань: 6\n",
      "Ймовірність: 0.11\n",
      "\n",
      "\n",
      "Грань: 1\n",
      "Ймовірність: 0.116\n",
      "Грань: 2\n",
      "Ймовірність: 0.144\n",
      "Грань: 3\n",
      "Ймовірність: 0.212\n",
      "Грань: 4\n",
      "Ймовірність: 0.192\n",
      "Грань: 5\n",
      "Ймовірність: 0.172\n",
      "Грань: 6\n",
      "Ймовірність: 0.164\n",
      "\n",
      "\n",
      "Грань: 1\n",
      "Ймовірність: 0.164\n",
      "Грань: 2\n",
      "Ймовірність: 0.164\n",
      "Грань: 3\n",
      "Ймовірність: 0.172\n",
      "Грань: 4\n",
      "Ймовірність: 0.15\n",
      "Грань: 5\n",
      "Ймовірність: 0.164\n",
      "Грань: 6\n",
      "Ймовірність: 0.186\n",
      "\n",
      "\n",
      "Грань: 1\n",
      "Ймовірність: 0.157\n",
      "Грань: 2\n",
      "Ймовірність: 0.159\n",
      "Грань: 3\n",
      "Ймовірність: 0.171\n",
      "Грань: 4\n",
      "Ймовірність: 0.174\n",
      "Грань: 5\n",
      "Ймовірність: 0.176\n",
      "Грань: 6\n",
      "Ймовірність: 0.163\n",
      "\n",
      "\n",
      "Грань: 1\n",
      "Ймовірність: 0.1708\n",
      "Грань: 2\n",
      "Ймовірність: 0.156\n",
      "Грань: 3\n",
      "Ймовірність: 0.1704\n",
      "Грань: 4\n",
      "Ймовірність: 0.1608\n",
      "Грань: 5\n",
      "Ймовірність: 0.1672\n",
      "Грань: 6\n",
      "Ймовірність: 0.1748\n",
      "\n",
      "\n",
      "Грань: 1\n",
      "Ймовірність: 0.1624\n",
      "Грань: 2\n",
      "Ймовірність: 0.1676\n",
      "Грань: 3\n",
      "Ймовірність: 0.1734\n",
      "Грань: 4\n",
      "Ймовірність: 0.1662\n",
      "Грань: 5\n",
      "Ймовірність: 0.1674\n",
      "Грань: 6\n",
      "Ймовірність: 0.163\n",
      "\n",
      "\n",
      "Грань: 1\n",
      "Ймовірність: 0.1617\n",
      "Грань: 2\n",
      "Ймовірність: 0.1582\n",
      "Грань: 3\n",
      "Ймовірність: 0.1702\n",
      "Грань: 4\n",
      "Ймовірність: 0.177\n",
      "Грань: 5\n",
      "Ймовірність: 0.1656\n",
      "Грань: 6\n",
      "Ймовірність: 0.1673\n",
      "\n",
      "\n"
     ]
    }
   ],
   "source": [
    "n= [10,50,100,250,500,1000,2500,5000,10000]\n",
    "\n",
    "def task2(n):\n",
    "    tosses=np.random.choice(np.arange(1,7), size=n)\n",
    "\n",
    "    for i in range(1,7):\n",
    "        res = list(tosses).count(i)\n",
    "        print(\"Грань: {}\\nЙмовірність: {}\".format(i,res/n), end = '\\n')\n",
    "\n",
    "for i in n:\n",
    "    task2(i)\n",
    "    print('\\n')"
   ]
  },
  {
   "cell_type": "markdown",
   "metadata": {},
   "source": [
    "## 5 Колода карт\n",
    "### 5.1 Реалізація"
   ]
  },
  {
   "cell_type": "code",
   "execution_count": 28,
   "metadata": {},
   "outputs": [
    {
     "name": "stdout",
     "output_type": "stream",
     "text": [
      "[('10', '♠'), ('10', '♢'), ('10', '♡'), ('10', '♣'), ('6', '♠'), ('6', '♢'), ('6', '♡'), ('6', '♣'), ('1', '♠'), ('1', '♢'), ('1', '♡'), ('1', '♣'), ('8', '♠'), ('8', '♢'), ('8', '♡'), ('8', '♣'), ('Q', '♠'), ('Q', '♢'), ('Q', '♡'), ('Q', '♣'), ('5', '♠'), ('5', '♢'), ('5', '♡'), ('5', '♣'), ('2', '♠'), ('2', '♢'), ('2', '♡'), ('2', '♣'), ('9', '♠'), ('9', '♢'), ('9', '♡'), ('9', '♣'), ('3', '♠'), ('3', '♢'), ('3', '♡'), ('3', '♣'), ('K', '♠'), ('K', '♢'), ('K', '♡'), ('K', '♣'), ('J', '♠'), ('J', '♢'), ('J', '♡'), ('J', '♣'), ('7', '♠'), ('7', '♢'), ('7', '♡'), ('7', '♣'), ('4', '♠'), ('4', '♢'), ('4', '♡'), ('4', '♣')]\n"
     ]
    }
   ],
   "source": [
    "# Визначимо номінали, масті та карти\n",
    "Ranks = {'1', '2', '3', '4', '5', '6', '7', '8', '9', '10', 'J', 'Q', 'K'}\n",
    "Suits = {'♢', '♠', '♣', '♡'}\n",
    "# Створимо колоду карт\n",
    "Cards = [(Rank, Suit) for Rank in Ranks for Suit in Suits]\n",
    "print(Cards)"
   ]
  },
  {
   "cell_type": "code",
   "execution_count": 29,
   "metadata": {},
   "outputs": [
    {
     "name": "stdout",
     "output_type": "stream",
     "text": [
      "10♠, 10♢, 10♡, 10♣, 6♠, 6♢, 6♡, 6♣, 1♠, 1♢, 1♡, 1♣, 8♠, 8♢, 8♡, 8♣, Q♠, Q♢, Q♡, Q♣, 5♠, 5♢, 5♡, 5♣, 2♠, 2♢, 2♡, 2♣, 9♠, 9♢, 9♡, 9♣, 3♠, 3♢, 3♡, 3♣, K♠, K♢, K♡, K♣, J♠, J♢, J♡, J♣, 7♠, 7♢, 7♡, 7♣, 4♠, 4♢, 4♡, 4♣\n"
     ]
    }
   ],
   "source": [
    "# Інший вівід результату\n",
    "print(', '.join([(card[0] + card[1]) for card in Cards]))"
   ]
  },
  {
   "cell_type": "code",
   "execution_count": 30,
   "metadata": {},
   "outputs": [
    {
     "name": "stdout",
     "output_type": "stream",
     "text": [
      "♠10, ♠6, ♠1, ♠8, ♠Q, ♠5, ♠2, ♠9, ♠3, ♠K, ♠J, ♠7, ♠4\n",
      "♢10, ♢6, ♢1, ♢8, ♢Q, ♢5, ♢2, ♢9, ♢3, ♢K, ♢J, ♢7, ♢4\n",
      "♡10, ♡6, ♡1, ♡8, ♡Q, ♡5, ♡2, ♡9, ♡3, ♡K, ♡J, ♡7, ♡4\n",
      "♣10, ♣6, ♣1, ♣8, ♣Q, ♣5, ♣2, ♣9, ♣3, ♣K, ♣J, ♣7, ♣4\n"
     ]
    }
   ],
   "source": [
    "# Або згрупувавши по мастях\n",
    "for suit in Suits:\n",
    "    print(\", \".join([(suit+rank) for rank in Ranks]))"
   ]
  },
  {
   "cell_type": "code",
   "execution_count": 31,
   "metadata": {},
   "outputs": [
    {
     "name": "stdout",
     "output_type": "stream",
     "text": [
      "[('1', '♡'), ('2', '♣'), ('2', '♡'), ('7', '♢'), ('10', '♣'), ('Q', '♢'), ('8', '♣'), ('9', '♢'), ('6', '♠'), ('K', '♠'), ('9', '♡'), ('4', '♠'), ('6', '♣'), ('2', '♢'), ('7', '♣'), ('K', '♣'), ('K', '♢'), ('3', '♣'), ('3', '♢'), ('5', '♠'), ('3', '♠'), ('5', '♣'), ('1', '♢'), ('6', '♡'), ('5', '♡'), ('2', '♠'), ('8', '♠'), ('Q', '♡'), ('Q', '♠'), ('J', '♡'), ('J', '♠'), ('7', '♠'), ('4', '♡'), ('1', '♣'), ('5', '♢'), ('8', '♢'), ('1', '♠'), ('J', '♣'), ('9', '♠'), ('J', '♢'), ('10', '♡'), ('Q', '♣'), ('8', '♡'), ('10', '♢'), ('10', '♠'), ('4', '♣'), ('4', '♢'), ('3', '♡'), ('6', '♢'), ('7', '♡'), ('K', '♡'), ('9', '♣')]\n"
     ]
    }
   ],
   "source": [
    "# Перемішаємо колоду\n",
    "np.random.shuffle(Cards)\n",
    "\n",
    "print(Cards)"
   ]
  },
  {
   "cell_type": "code",
   "execution_count": 32,
   "metadata": {},
   "outputs": [
    {
     "name": "stdout",
     "output_type": "stream",
     "text": [
      "['10' '2' '1' '1' '6' '9' '4' '4' '6' '1']\n",
      "Підкидань: 10\n",
      "Ймовірність: 0.6\n",
      "\n"
     ]
    }
   ],
   "source": [
    "Cards_t = [el[0] for el in Cards]\n",
    "tosses=np.random.choice(Cards_t, size=10)\n",
    "print(tosses)\n",
    "count = 0\n",
    "for card in tosses:\n",
    "    if card.isdigit():\n",
    "        if int(card)%2 == 0:\n",
    "            count += 1\n",
    "    \n",
    "print(\"Підкидань: {}\\nЙмовірність: {}\".format(10,count/10), end = '\\n\\n')"
   ]
  },
  {
   "cell_type": "markdown",
   "metadata": {},
   "source": [
    "### 5.2 Задача\n",
    "Знайдіть емпіричну ймовірність карти парного числа (2, 4, 6, 8, 10) у симуляціях вибору однієї карти з колоди 52 карт $n = 10, 50, 100, 250, 500, 1000, 2500, 5000, 10000$ разів."
   ]
  },
  {
   "cell_type": "code",
   "execution_count": 33,
   "metadata": {},
   "outputs": [
    {
     "name": "stdout",
     "output_type": "stream",
     "text": [
      "Підкидань: 10\n",
      "Ймовірність: 0.4\n",
      "\n",
      "Підкидань: 50\n",
      "Ймовірність: 0.44\n",
      "\n",
      "Підкидань: 100\n",
      "Ймовірність: 0.39\n",
      "\n",
      "Підкидань: 250\n",
      "Ймовірність: 0.372\n",
      "\n",
      "Підкидань: 500\n",
      "Ймовірність: 0.408\n",
      "\n",
      "Підкидань: 1000\n",
      "Ймовірність: 0.387\n",
      "\n",
      "Підкидань: 2500\n",
      "Ймовірність: 0.3944\n",
      "\n",
      "Підкидань: 5000\n",
      "Ймовірність: 0.3762\n",
      "\n",
      "Підкидань: 10000\n",
      "Ймовірність: 0.3908\n",
      "\n"
     ]
    }
   ],
   "source": [
    "n= [10,50,100,250,500,1000,2500,5000,10000]\n",
    "Cards_t = [el[0] for el in Cards]\n",
    "\n",
    "def task3(n):\n",
    "    tosses=np.random.choice(Cards_t, size=n)\n",
    "    \n",
    "    count = 0\n",
    "    for card in tosses:\n",
    "        if card.isdigit():\n",
    "            if int(card)%2 == 0:\n",
    "                count += 1\n",
    "    \n",
    "    print(\"Підкидань: {}\\nЙмовірність: {}\".format(n,count/n), end = '\\n\\n')\n",
    "\n",
    "for i in n:\n",
    "    task3(i)"
   ]
  },
  {
   "cell_type": "markdown",
   "metadata": {},
   "source": [
    "### 5.3 Задача\n",
    "Випадковим чином роздайте колоду з 52 карт чотирьом гравцям (кожному по 13 карт) так, щоб кожен з них мав 4 карти однієї масті та по 3 карти інших мастей. Наприклад, {♣5, ♣10, ♣8, ♣4, ♠4, ♠J, ♠3, ♢Q, ♢7, ♢K, ♡9, ♡1, ♡5}."
   ]
  },
  {
   "cell_type": "code",
   "execution_count": 37,
   "metadata": {},
   "outputs": [
    {
     "name": "stdout",
     "output_type": "stream",
     "text": [
      "[['♢1', '♢2', '♢3', '♢4', '♢5', '♢6', '♢7', '♢8', '♢9', '♢10', '♢J', '♢Q', '♢K'], ['♠1', '♠2', '♠3', '♠4', '♠5', '♠6', '♠7', '♠8', '♠9', '♠10', '♠J', '♠Q', '♠K'], ['♣1', '♣2', '♣3', '♣4', '♣5', '♣6', '♣7', '♣8', '♣9', '♣10', '♣J', '♣Q', '♣K'], ['♡1', '♡2', '♡3', '♡4', '♡5', '♡6', '♡7', '♡8', '♡9', '♡10', '♡J', '♡Q', '♡K']]\n",
      "'♢Q', '♢8', '♢5', '♢3', '♣8', '♣3', '♣7', '♣5', '♠4', '♠1', '♠K', '♠7', '♡2', '♡10', '♡Q', '♡7'\n",
      "'♡7', '♡Q', '♡K', '♡9', '♠6', '♠K', '♠Q', '♠10', '♢5', '♢K', '♢2', '♢3', '♣5', '♣2', '♣J', '♣7'\n",
      "'♠10', '♠4', '♠3', '♠6', '♢2', '♢10', '♢6', '♢9', '♡7', '♡2', '♡5', '♡10', '♣7', '♣6', '♣J', '♣2'\n"
     ]
    }
   ],
   "source": [
    "Ranks = ['1', '2', '3', '4', '5', '6', '7', '8', '9', '10', 'J', 'Q', 'K']\n",
    "Suits = ['♢', '♠', '♣', '♡']\n",
    "main_list = [[(suit+rank) for rank in Ranks] for suit in Suits]\n",
    "\n",
    "class Cards:\n",
    "    def __init__(self):\n",
    "        self.Ranks = ['1', '2', '3', '4', '5', '6', '7', '8', '9', '10', 'J', 'Q', 'K']\n",
    "        self.Suits = ['♢', '♠', '♣', '♡']\n",
    "        lst = [False]*4\n",
    "        self.Suits_qe = np.random.choice(Suits, size=4, replace=False)\n",
    "        self.main_list = [[(suit+rank) for rank in Ranks] for suit in self.Suits]\n",
    "        \n",
    "    def step(self):\n",
    "        str = ''\n",
    "        s = np.random.choice(list(self.Suits_qe.keys()), size=1, replace=False)\n",
    "        for i in range(4):\n",
    "            card = np.random.choice(self.Ranks, size=1)\n",
    "            del self.Suits[self.Suits.index(s)]\n",
    "        \n",
    "        del self.Suits[self.Suits.index(s)]\n",
    "        Suits = np.random.choice([el for el in self.Suits_qe if el != s], size=3, replace=False)\n",
    "        \n",
    "        \n",
    "\n",
    "print(main_list)\n",
    "\n",
    "def task4():\n",
    "    s = np.random.choice(np.arange(4), size=4, replace=False)\n",
    "    str = np.array2string(np.random.choice(main_list[s[0]], size=4, replace=False), separator=', ', suppress_small=True)[1:-1]\n",
    "    for i in range(1,4):\n",
    "        str += ', ' + np.array2string(np.random.choice(main_list[s[i]], size=4, replace=False), separator=', ', suppress_small=True)[1:-1]\n",
    "    for el in str.split():\n",
    "        for i in range(4):\n",
    "            main_list[i].remove\n",
    "    \n",
    "    return str\n",
    "    \n",
    "for _ in range(3):\n",
    "    print(task4())"
   ]
  },
  {
   "cell_type": "code",
   "execution_count": null,
   "metadata": {},
   "outputs": [],
   "source": [
    "from itertools import combinations\n",
    "\n",
    "A = combinations(list(range(1,21)),10)\n",
    "B = []\n",
    "\n",
    "res = []\n",
    "\n",
    "for a in A:\n",
    "    for i in range(0,10):\n",
    "        for j in range(0,10):\n",
    "            if i!=j:\n",
    "                c = a[i] + a[j]\n",
    "                B.append(c)\n",
    "    res.append(len(set(B)))\n",
    "\n",
    "print(min(res))\n",
    "print(max(res))"
   ]
  },
  {
   "cell_type": "code",
   "execution_count": 35,
   "metadata": {},
   "outputs": [
    {
     "data": {
      "text/plain": [
       "'0, 3, 3, 1'"
      ]
     },
     "execution_count": 35,
     "metadata": {},
     "output_type": "execute_result"
    }
   ],
   "source": [
    "np.array2string(np.random.choice(np.arange(4), size=4), separator=', ', suppress_small=True)[1:-1]"
   ]
  },
  {
   "cell_type": "markdown",
   "metadata": {},
   "source": [
    "### 5.4 Задача\n",
    "Випадковим чином роздайте колоду з 52 карт чотирьом гравцям (кожному по 13 карт) так, щоб кожен з них мав від 2 до 5 карт кожної масті. Наприклад, {♣5, ♣10, ♣8, ♣4, ♠4, ♠J, ♠3, ♢Q, ♣7, ♢K, ♡9, ♡1, ♡5}."
   ]
  },
  {
   "cell_type": "code",
   "execution_count": 36,
   "metadata": {},
   "outputs": [],
   "source": [
    "# Місце для Вашого коду\n",
    "\n"
   ]
  }
 ],
 "metadata": {
  "kernelspec": {
   "display_name": "Python 3",
   "language": "python",
   "name": "python3"
  },
  "language_info": {
   "codemirror_mode": {
    "name": "ipython",
    "version": 3
   },
   "file_extension": ".py",
   "mimetype": "text/x-python",
   "name": "python",
   "nbconvert_exporter": "python",
   "pygments_lexer": "ipython3",
   "version": "3.7.3"
  }
 },
 "nbformat": 4,
 "nbformat_minor": 1
}
