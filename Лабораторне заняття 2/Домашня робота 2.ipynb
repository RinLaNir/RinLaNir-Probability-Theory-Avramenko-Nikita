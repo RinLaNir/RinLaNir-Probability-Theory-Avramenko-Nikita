{
 "cells": [
  {
   "cell_type": "markdown",
   "metadata": {},
   "source": [
    "# Домашня робота №2"
   ]
  },
  {
   "cell_type": "markdown",
   "metadata": {},
   "source": [
    "## 1 Пароль\n",
    "Напишіть програму (функцію) для генерування випадкового пароля з такими обмеженнями:\n",
    "- пароль складається з рівно $10$ символів\n",
    "- пароль містить хоча б одну маленьку латинську літеру [a-z]\n",
    "- пароль містить хоча б одну велику латинську літеру [A-Z]\n",
    "- пароль містить хоча б одну цифру [0-9]\n",
    "- пароль містить хоча б один спеціальний символ [~!@#$%^&*()-_+=\\/{}[].,?<>:;]"
   ]
  },
  {
   "cell_type": "code",
   "execution_count": 1,
   "metadata": {},
   "outputs": [
    {
     "name": "stdout",
     "output_type": "stream",
     "text": [
      "#i[:~7Hh8G\n"
     ]
    }
   ],
   "source": [
    "import string\n",
    "import numpy as np\n",
    "\n",
    "def task1():\n",
    "    a = [chr(i) for i in range(97,123)]\n",
    "    A = [chr(i) for i in range(65,91)]\n",
    "    n = [str(i) for i in range(0,10)]\n",
    "    c = '~!@#$%^&*()-_+=/{}[].,?<>:;'\n",
    "    c = [el for el in c]\n",
    "    All = a+A+n+c\n",
    "    res = []\n",
    "    res.append(np.random.choice(a, size=1))\n",
    "    res.append(np.random.choice(A, size=1))\n",
    "    res.append(np.random.choice(n, size=1))\n",
    "    res.append(np.random.choice(c, size=1))\n",
    "    for i in range(0,10-4):\n",
    "        res.append(np.random.choice(All, size=1))\n",
    "    np.random.shuffle(res)\n",
    "    return ''.join([str(el)[2:-2] for el in res])\n",
    "\n",
    "print(task1())"
   ]
  },
  {
   "cell_type": "markdown",
   "metadata": {},
   "source": [
    "## 2 Герби в ряд\n",
    "Реалізуйте функцію для обчислення емпіричної та теоретичної імовірностей випадіння $k$ гербів (HEADS) підряд у серії з $n$ підкидань чесної монетки. Підрахуйте відповідні ймовірності для таких параметрів:\n",
    "- $k = 2, n = 10, 50, 100, 500, 1000, 5000, 10000$\n",
    "- $k = 3, n = 10, 50, 100, 500, 1000, 5000, 10000$\n",
    "\n",
    "**Зауваження.** Нехай $k = 2, n = 10$ та маємо таку послідовність результатів підкидання монети: $\\{ H, T, H, H, H, H, T, T, H, T \\}$. Тоді матимемо $3$ випадки випадіння двох гербів підряд та емпіричну ймовірність такої події $1/3$."
   ]
  },
  {
   "cell_type": "code",
   "execution_count": 2,
   "metadata": {},
   "outputs": [
    {
     "name": "stdout",
     "output_type": "stream",
     "text": [
      "Теоретична  імовірность -- 0.25\n",
      "Емпірична імовірность для k = 2 і n = 10 -- 0.6\n",
      "Емпірична імовірность для k = 2 і n = 50 -- 0.4\n",
      "Емпірична імовірность для k = 2 і n = 100 -- 0.25\n",
      "Емпірична імовірность для k = 2 і n = 500 -- 0.262\n",
      "Емпірична імовірность для k = 2 і n = 1000 -- 0.255\n",
      "Емпірична імовірность для k = 2 і n = 5000 -- 0.257\n",
      "Емпірична імовірность для k = 2 і n = 10000 -- 0.2536\n",
      "\n",
      "\n",
      "Теоретична  імовірность -- 0.125\n",
      "Емпірична імовірность для k = 3 і n = 10 -- 0.1\n",
      "Емпірична імовірность для k = 3 і n = 50 -- 0.08\n",
      "Емпірична імовірность для k = 3 і n = 100 -- 0.11\n",
      "Емпірична імовірность для k = 3 і n = 500 -- 0.122\n",
      "Емпірична імовірность для k = 3 і n = 1000 -- 0.146\n",
      "Емпірична імовірность для k = 3 і n = 5000 -- 0.1254\n",
      "Емпірична імовірность для k = 3 і n = 10000 -- 0.1217\n",
      "\n",
      "\n"
     ]
    }
   ],
   "source": [
    "import math\n",
    "\n",
    "k = [2,3]\n",
    "n = [10,50,100,500,1000,5000,10000]\n",
    "\n",
    "def t_prob2(k):\n",
    "    return (1/2)**k        \n",
    "\n",
    "def task2(k, n):\n",
    "    result = np.random.choice(['H', 'T'], size=n)\n",
    "    counter = 0\n",
    "    \n",
    "    for i in range(0,n-k+1):\n",
    "        if result[i] == 'H':\n",
    "            if all([el == 'H' for el in result[i:i+k]]):\n",
    "                counter += 1\n",
    "    return counter/n\n",
    "    \n",
    "for i in k:\n",
    "    print(f'Теоретична  імовірность -- {t_prob2(i)}')\n",
    "    for j in n:\n",
    "        print(f'Емпірична імовірность для k = {i} і n = {j} -- {task2(i,j)}')\n",
    "    print('\\n')"
   ]
  },
  {
   "cell_type": "markdown",
   "metadata": {},
   "source": [
    "## 3 Найбільше число\n",
    "Реалізуйте функцію підрахунку точної (теоретичної) імовірності того, що максимальне число після $n$ кидків звичайного грального кубика дорівнює $x\\_max$, для таких параметрів:\n",
    "- $n = 3, x\\_max = 6$\n",
    "- $n = 2, x\\_max = 3$\n",
    "- $n = 3, x\\_max = 5$\n",
    "\n",
    "Тобто, якщо $X_i, i = 1, \\ldots, n$, - число на $i$-му кидку кубика, а $X = \\max\\limits_{1 \\leq i \\leq n} X_i$, то потрібно знайти ймовірність $\\textbf{P} \\left( X = x\\_max \\right)$.\n",
    "\n",
    "Підрахуйте також емпіричні ймовірності відповідних подій у випадку $10000$ симуляцій.\n",
    "\n",
    "**Зауваження.** Якщо введені параметри не мають сенсу, то повертати $0$.\n",
    "Тобто, якщо вводиться $x\\_max < 1$ або $x\\_max > 6$."
   ]
  },
  {
   "cell_type": "code",
   "execution_count": 3,
   "metadata": {},
   "outputs": [
    {
     "name": "stdout",
     "output_type": "stream",
     "text": [
      "Теоретична  імовірность -- 0.4212962962962964\n",
      "Емпірична імовірность для max = 6 і n = 3 -- 0.4172\n",
      "\n",
      "\n",
      "Теоретична  імовірность -- 0.1388888888888889\n",
      "Емпірична імовірность для max = 3 і n = 2 -- 0.1389\n",
      "\n",
      "\n",
      "Теоретична  імовірность -- 0.28240740740740744\n",
      "Емпірична імовірность для max = 5 і n = 3 -- 0.2813\n",
      "\n",
      "\n"
     ]
    }
   ],
   "source": [
    "n = [3,2,3]\n",
    "k = [6,3,5]\n",
    "\n",
    "def task3(k,n):\n",
    "    if k < 1 or k > 6:\n",
    "        return 0\n",
    "    counter = 0\n",
    "    for i in range(10000):\n",
    "        x = np.random.choice(range(1,7), size=n)\n",
    "        if max(x) == k:\n",
    "            counter += 1\n",
    "    return counter/10000\n",
    "\n",
    "def comb(k, n):\n",
    "    return math.factorial(n) // (math.factorial(k) * math.factorial(n-k))\n",
    "\n",
    "def t_prob3(k_max, n):\n",
    "    if k_max < 1 or k_max > 6:\n",
    "        return 0\n",
    "    res = 0\n",
    "    for i in range(1, n+1):\n",
    "        res += comb(i,n)*(1/6)**i*((k_max - 1)/6)**(n-i)\n",
    "    return res\n",
    "    \n",
    "\n",
    "for i in range(3):\n",
    "    print(f'Теоретична  імовірность -- {t_prob3(k[i], n[i])}')\n",
    "    print(f'Емпірична імовірность для max = {k[i]} і n = {n[i]} -- {task3(k[i],n[i])}')\n",
    "    print('\\n')"
   ]
  },
  {
   "cell_type": "markdown",
   "metadata": {},
   "source": [
    "## 4 Сума чисел\n",
    "Реалізуйте функцію підрахунку точної (теоретичної) імовірності того, що сума чисел після $n$ кидків звичайного грального кубика дорівнює $s$, для таких параметрів:\n",
    "- $n = 3, s = 13$\n",
    "- $n = 2, s = 5$\n",
    "- $n = 3, s = 7$\n",
    "\n",
    "Тобто, якщо $X_i, i = 1, \\ldots, n$, - число на $i$-му кидку кубика, а $X = \\sum\\limits_{i = 1}^{n} X_i$, то потрібно знайти ймовірність $\\textbf{P} \\left( X = s \\right)$.\n",
    "\n",
    "Підрахуйте також емпіричні ймовірності відповідних подій у випадку $10000$ симуляцій.\n",
    "\n",
    "**Зауваження.** Якщо введені параметри не мають сенсу, то повертати $0$.\n",
    "Наприклад, якщо при $n = 3$ вводиться $s < 3$ або $s > 18$."
   ]
  },
  {
   "cell_type": "code",
   "execution_count": 4,
   "metadata": {},
   "outputs": [
    {
     "name": "stdout",
     "output_type": "stream",
     "text": [
      "Теоретична  імовірность -- 0.09722222222222222\n",
      "Емпірична імовірность для sum = 13 і n = 3 -- 0.0972\n",
      "\n",
      "\n",
      "Теоретична  імовірность -- 0.1111111111111111\n",
      "Емпірична імовірность для sum = 5 і n = 2 -- 0.1142\n",
      "\n",
      "\n",
      "Теоретична  імовірность -- 0.06944444444444445\n",
      "Емпірична імовірность для sum = 7 і n = 3 -- 0.0702\n",
      "\n",
      "\n"
     ]
    }
   ],
   "source": [
    "n = [3,2,3]\n",
    "s = [13,5,7]\n",
    "\n",
    "def task4(s,n):\n",
    "    if s < 1*n or s > 6*n:\n",
    "        return 0\n",
    "    counter = 0\n",
    "    for i in range(10000):\n",
    "        x = np.random.choice(range(1,7), size=n)\n",
    "        if sum(x) == s:\n",
    "            counter += 1\n",
    "    return counter/10000\n",
    "\n",
    "h_2 = np.zeros((6, 6))\n",
    "for i in range(0,6):\n",
    "    for j in range(0,6):\n",
    "        h_2[i][j] = i+j+2\n",
    "        \n",
    "h_3 = np.zeros((6, 6, 6))\n",
    "for i in range(0,6):\n",
    "    for j in range(0,6):\n",
    "        for l in range(0,6):\n",
    "            h_3[i][j][l] = i+j+l+3\n",
    "\n",
    "def t_prob4(s, n):\n",
    "    if s < 1*n or s > 6*n:\n",
    "        return 0\n",
    "    if n == 2:\n",
    "        return (h_2 == s).sum()/6**2\n",
    "    if n == 3:\n",
    "        return (h_3 == s).sum()/6**3\n",
    "\n",
    "for i in range(3):\n",
    "    print(f'Теоретична  імовірность -- {t_prob4(s[i], n[i])}')\n",
    "    print(f'Емпірична імовірность для sum = {s[i]} і n = {n[i]} -- {task4(s[i],n[i])}')\n",
    "    print('\\n')"
   ]
  },
  {
   "cell_type": "code",
   "execution_count": null,
   "metadata": {},
   "outputs": [],
   "source": []
  }
 ],
 "metadata": {
  "kernelspec": {
   "display_name": "Python 3",
   "language": "python",
   "name": "python3"
  },
  "language_info": {
   "codemirror_mode": {
    "name": "ipython",
    "version": 3
   },
   "file_extension": ".py",
   "mimetype": "text/x-python",
   "name": "python",
   "nbconvert_exporter": "python",
   "pygments_lexer": "ipython3",
   "version": "3.7.3"
  }
 },
 "nbformat": 4,
 "nbformat_minor": 1
}
